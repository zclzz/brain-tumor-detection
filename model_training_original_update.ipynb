{
 "cells": [
  {
   "cell_type": "markdown",
   "metadata": {},
   "source": [
    "# Model training"
   ]
  },
  {
   "cell_type": "code",
   "execution_count": 2,
   "metadata": {},
   "outputs": [],
   "source": [
    "import os\n",
    "import numpy as np\n",
    "import pandas as pd\n",
    "import cv2\n",
    "import matplotlib.pyplot as plt\n",
    "from sklearn.decomposition import PCA\n",
    "from sklearn.neighbors import KNeighborsClassifier\n",
    "from sklearn.model_selection import GridSearchCV, StratifiedKFold, cross_val_score\n",
    "from sklearn.metrics import confusion_matrix, ConfusionMatrixDisplay, accuracy_score, classification_report, precision_score, recall_score, f1_score \n",
    "from sklearn.preprocessing import LabelEncoder, StandardScaler"
   ]
  },
  {
   "cell_type": "code",
   "execution_count": 3,
   "metadata": {},
   "outputs": [],
   "source": [
    "# Read images from a directory, convert to grayscale and resize\n",
    "def read_images_from_dir(directory, size=(64, 64)): #NEED TO FIX THE RESIZE AGAIN!!! \n",
    "    images = []\n",
    "    labels = []\n",
    "    for folder in ['Malignant', 'Benign']:\n",
    "        folder_path = os.path.join(directory, folder)\n",
    "        for filename in os.listdir(folder_path):\n",
    "            if filename.endswith(\".jpg\"):  # You can also add other formats if needed\n",
    "                img_path = os.path.join(folder_path, filename)\n",
    "                img = cv2.imread(img_path, cv2.IMREAD_GRAYSCALE)\n",
    "                img_resized = cv2.resize(img, size)\n",
    "                images.append(img_resized.ravel())  # Convert 2D image to 1D\n",
    "                labels.append(folder)\n",
    "    return np.array(images), np.array(labels)"
   ]
  },
  {
   "cell_type": "code",
   "execution_count": 7,
   "metadata": {},
   "outputs": [],
   "source": [
    "# Encode labels\n",
    "encoder = LabelEncoder()\n",
    "# Read training data\n",
    "X_train, y_train = read_images_from_dir(\"Brain_Tumor/Train\")\n",
    "y_train = encoder.fit_transform(y_train)  # Fit and transform the training labels"
   ]
  },
  {
   "cell_type": "code",
   "execution_count": 8,
   "metadata": {},
   "outputs": [],
   "source": [
    "# Apply PCA\n",
    "n_components = 150 \n",
    "pca = PCA(n_components=n_components, whiten=True).fit(X_train)\n",
    "X_train_pca = pca.transform(X_train) # same as fit.transform()"
   ]
  },
  {
   "cell_type": "code",
   "execution_count": 9,
   "metadata": {},
   "outputs": [],
   "source": [
    "# Read test data\n",
    "X_test, y_test = read_images_from_dir('Brain_Tumor/Test')\n",
    "y_test = encoder.transform(y_test)  # Use the encoder fitted on training data to transform test labels\n",
    "X_test_pca = pca.transform(X_test)  # Use the same PCA object to transform test data"
   ]
  },
  {
   "cell_type": "markdown",
   "metadata": {},
   "source": [
    "## 1. KNN"
   ]
  },
  {
   "cell_type": "code",
   "execution_count": 27,
   "metadata": {},
   "outputs": [],
   "source": [
    "cv = StratifiedKFold(5, random_state=1, shuffle=True)\n",
    "knn = KNeighborsClassifier()\n",
    "\n",
    "params = {\n",
    "    \"weights\": [\"uniform\", \"distance\"],\n",
    "    \"n_neighbors\": np.arange(1, 16, 1),\n",
    "    \"metric\": [\"cityblock\", \"euclidean\", \"cosine\", \"l1\", \"l2\", \"manhattan\", \"nan_euclidean\"]\n",
    "}\n",
    "\n",
    "clf = GridSearchCV(estimator=knn, param_grid=params, scoring=\"f1\", cv=cv, n_jobs=-1) #cuz im using alr balanced data, so use F1 rather than f1 weighted\n",
    "clf.fit(X_train, y_train)\n",
    "\n",
    "y_pred = clf.predict(X_test)\n",
    "\n",
    "knn_results = pd.DataFrame(clf.cv_results_).drop([\"mean_fit_time\", \"std_fit_time\", \"mean_score_time\", \"std_score_time\", \"params\"], axis=1).rename(columns={\"param_metric\": \"metric\", \"param_n_neighbors\": \"n_neighbors\", \"param_weights\": \"weights\"})\n",
    "knn_results.to_csv(f\"Results/knn_results.csv\")"
   ]
  },
  {
   "cell_type": "code",
   "execution_count": 28,
   "metadata": {},
   "outputs": [
    {
     "name": "stdout",
     "output_type": "stream",
     "text": [
      "Accuracy: 0.7659574468085106\n",
      "F1_score 0.8307692307692308\n",
      "Micro F1_score: 0.7659574468085105\n",
      "Weighted F1_score: 0.7592527795022292\n",
      "              precision    recall  f1-score   support\n",
      "\n",
      "           0       0.69      0.56      0.62        16\n",
      "           1       0.79      0.87      0.83        31\n",
      "\n",
      "    accuracy                           0.77        47\n",
      "   macro avg       0.74      0.72      0.73        47\n",
      "weighted avg       0.76      0.77      0.76        47\n",
      "\n",
      "----Top 5 models----\n"
     ]
    },
    {
     "data": {
      "text/html": [
       "<div>\n",
       "<style scoped>\n",
       "    .dataframe tbody tr th:only-of-type {\n",
       "        vertical-align: middle;\n",
       "    }\n",
       "\n",
       "    .dataframe tbody tr th {\n",
       "        vertical-align: top;\n",
       "    }\n",
       "\n",
       "    .dataframe thead th {\n",
       "        text-align: right;\n",
       "    }\n",
       "</style>\n",
       "<table border=\"1\" class=\"dataframe\">\n",
       "  <thead>\n",
       "    <tr style=\"text-align: right;\">\n",
       "      <th></th>\n",
       "      <th>metric</th>\n",
       "      <th>n_neighbors</th>\n",
       "      <th>weights</th>\n",
       "      <th>mean_test_score</th>\n",
       "      <th>std_test_score</th>\n",
       "      <th>rank_test_score</th>\n",
       "    </tr>\n",
       "  </thead>\n",
       "  <tbody>\n",
       "    <tr>\n",
       "      <th>0</th>\n",
       "      <td>cosine</td>\n",
       "      <td>4</td>\n",
       "      <td>distance</td>\n",
       "      <td>0.886924</td>\n",
       "      <td>0.029471</td>\n",
       "      <td>1</td>\n",
       "    </tr>\n",
       "    <tr>\n",
       "      <th>1</th>\n",
       "      <td>cosine</td>\n",
       "      <td>14</td>\n",
       "      <td>distance</td>\n",
       "      <td>0.883662</td>\n",
       "      <td>0.025849</td>\n",
       "      <td>2</td>\n",
       "    </tr>\n",
       "    <tr>\n",
       "      <th>2</th>\n",
       "      <td>cosine</td>\n",
       "      <td>5</td>\n",
       "      <td>distance</td>\n",
       "      <td>0.882007</td>\n",
       "      <td>0.036060</td>\n",
       "      <td>3</td>\n",
       "    </tr>\n",
       "    <tr>\n",
       "      <th>3</th>\n",
       "      <td>cosine</td>\n",
       "      <td>15</td>\n",
       "      <td>distance</td>\n",
       "      <td>0.877735</td>\n",
       "      <td>0.040190</td>\n",
       "      <td>4</td>\n",
       "    </tr>\n",
       "    <tr>\n",
       "      <th>4</th>\n",
       "      <td>cosine</td>\n",
       "      <td>3</td>\n",
       "      <td>distance</td>\n",
       "      <td>0.876121</td>\n",
       "      <td>0.041737</td>\n",
       "      <td>5</td>\n",
       "    </tr>\n",
       "  </tbody>\n",
       "</table>\n",
       "</div>"
      ],
      "text/plain": [
       "   metric n_neighbors   weights  mean_test_score  std_test_score  \\\n",
       "0  cosine           4  distance         0.886924        0.029471   \n",
       "1  cosine          14  distance         0.883662        0.025849   \n",
       "2  cosine           5  distance         0.882007        0.036060   \n",
       "3  cosine          15  distance         0.877735        0.040190   \n",
       "4  cosine           3  distance         0.876121        0.041737   \n",
       "\n",
       "   rank_test_score  \n",
       "0                1  \n",
       "1                2  \n",
       "2                3  \n",
       "3                4  \n",
       "4                5  "
      ]
     },
     "metadata": {},
     "output_type": "display_data"
    },
    {
     "name": "stdout",
     "output_type": "stream",
     "text": [
      "\n",
      "----Confusion Matrix----\n"
     ]
    },
    {
     "data": {
      "image/png": "[encoded data removed]",
      "text/plain": [
       "<Figure size 640x480 with 2 Axes>"
      ]
     },
     "metadata": {},
     "output_type": "display_data"
    }
   ],
   "source": [
    "print(\"Accuracy:\", accuracy_score(y_test, y_pred))\n",
    "\n",
    "f1 = f1_score(y_test, y_pred)\n",
    "print(\"F1_score\", f1)\n",
    "print(\"Micro F1_score:\", f1_score(y_test, y_pred, average=\"micro\"))\n",
    "print(\"Weighted F1_score:\", f1_score(y_test, y_pred, average=\"weighted\"))\n",
    "\n",
    "print(classification_report(y_test, y_pred))\n",
    "\n",
    "print(\"----Top 5 models----\")\n",
    "display(knn_results.sort_values(\"rank_test_score\").iloc[[0, 1, 2, 3, 4], [0, 1, 2, 8, 9, 10]].reset_index(drop=True))\n",
    "\n",
    "print(\"\\n----Confusion Matrix----\")\n",
    "cm = confusion_matrix(y_test, y_pred)\n",
    "\n",
    "labels = [\"benign\", \"malignant\"]\n",
    "disp = ConfusionMatrixDisplay(confusion_matrix=cm, display_labels=labels)\n",
    "\n",
    "disp.plot()\n",
    "plt.show()"
   ]
  },
  {
   "cell_type": "markdown",
   "metadata": {},
   "source": [
    "## 2. Decision Tree (DT)"
   ]
  },
  {
   "cell_type": "code",
   "execution_count": 29,
   "metadata": {},
   "outputs": [],
   "source": [
    "from sklearn.tree import DecisionTreeClassifier"
   ]
  },
  {
   "cell_type": "code",
   "execution_count": 30,
   "metadata": {},
   "outputs": [],
   "source": [
    "cv = StratifiedKFold(5, random_state=1, shuffle=True)\n",
    "dt = DecisionTreeClassifier()\n",
    "\n",
    "params = {\n",
    "    \"max_depth\" : np.arange(5, 15, 1),\n",
    "    \"criterion\": [\"gini\", \"entropy\", \"log_loss\"],\n",
    "    \"max_features\":  [\"sqrt\", \"log2\", None]\n",
    "}\n",
    "\n",
    "clf = GridSearchCV(estimator=dt, param_grid=params, scoring=\"f1\", cv=cv, n_jobs=-1) # The best model is chosen based on the metric of the refit param. Can be set to any metric listed in the \"scoring\" list above\n",
    "clf.fit(X_train, y_train)\n",
    "\n",
    "y_pred = clf.predict(X_test)\n",
    "\n",
    "dt_results = pd.DataFrame(clf.cv_results_).drop([\"mean_fit_time\", \"std_fit_time\", \"mean_score_time\", \"std_score_time\", \"params\"], axis=1).rename(columns={\"param_max_depth\": \"max_depth\", \"param_min_samples_split\": \"min_samples_split\", \"param_min_samples_leaf\": \"min_samples_leaf\", \"param_max_features\": \"max_features\"})\n",
    "dt_results.to_csv(f\"Results/dt_results.csv\")"
   ]
  },
  {
   "cell_type": "code",
   "execution_count": 31,
   "metadata": {},
   "outputs": [
    {
     "name": "stdout",
     "output_type": "stream",
     "text": [
      "Accuracy: 0.723404255319149\n",
      "F1_score 0.8115942028985507\n",
      "Micro F1_score: 0.723404255319149\n",
      "Weighted F1_score: 0.6987110699969163\n",
      "              precision    recall  f1-score   support\n",
      "\n",
      "           0       0.67      0.38      0.48        16\n",
      "           1       0.74      0.90      0.81        31\n",
      "\n",
      "    accuracy                           0.72        47\n",
      "   macro avg       0.70      0.64      0.65        47\n",
      "weighted avg       0.71      0.72      0.70        47\n",
      "\n",
      "----Top 5 models----\n"
     ]
    },
    {
     "data": {
      "text/html": [
       "<div>\n",
       "<style scoped>\n",
       "    .dataframe tbody tr th:only-of-type {\n",
       "        vertical-align: middle;\n",
       "    }\n",
       "\n",
       "    .dataframe tbody tr th {\n",
       "        vertical-align: top;\n",
       "    }\n",
       "\n",
       "    .dataframe thead th {\n",
       "        text-align: right;\n",
       "    }\n",
       "</style>\n",
       "<table border=\"1\" class=\"dataframe\">\n",
       "  <thead>\n",
       "    <tr style=\"text-align: right;\">\n",
       "      <th></th>\n",
       "      <th>param_criterion</th>\n",
       "      <th>max_depth</th>\n",
       "      <th>max_features</th>\n",
       "      <th>mean_test_score</th>\n",
       "      <th>std_test_score</th>\n",
       "      <th>rank_test_score</th>\n",
       "    </tr>\n",
       "  </thead>\n",
       "  <tbody>\n",
       "    <tr>\n",
       "      <th>0</th>\n",
       "      <td>entropy</td>\n",
       "      <td>10</td>\n",
       "      <td>log2</td>\n",
       "      <td>0.843228</td>\n",
       "      <td>0.030226</td>\n",
       "      <td>1</td>\n",
       "    </tr>\n",
       "    <tr>\n",
       "      <th>1</th>\n",
       "      <td>log_loss</td>\n",
       "      <td>11</td>\n",
       "      <td>sqrt</td>\n",
       "      <td>0.843214</td>\n",
       "      <td>0.068978</td>\n",
       "      <td>2</td>\n",
       "    </tr>\n",
       "    <tr>\n",
       "      <th>2</th>\n",
       "      <td>log_loss</td>\n",
       "      <td>12</td>\n",
       "      <td>log2</td>\n",
       "      <td>0.834637</td>\n",
       "      <td>0.029116</td>\n",
       "      <td>3</td>\n",
       "    </tr>\n",
       "    <tr>\n",
       "      <th>3</th>\n",
       "      <td>log_loss</td>\n",
       "      <td>9</td>\n",
       "      <td>None</td>\n",
       "      <td>0.833169</td>\n",
       "      <td>0.043035</td>\n",
       "      <td>4</td>\n",
       "    </tr>\n",
       "    <tr>\n",
       "      <th>4</th>\n",
       "      <td>log_loss</td>\n",
       "      <td>14</td>\n",
       "      <td>None</td>\n",
       "      <td>0.831507</td>\n",
       "      <td>0.035637</td>\n",
       "      <td>5</td>\n",
       "    </tr>\n",
       "  </tbody>\n",
       "</table>\n",
       "</div>"
      ],
      "text/plain": [
       "  param_criterion max_depth max_features  mean_test_score  std_test_score  \\\n",
       "0         entropy        10         log2         0.843228        0.030226   \n",
       "1        log_loss        11         sqrt         0.843214        0.068978   \n",
       "2        log_loss        12         log2         0.834637        0.029116   \n",
       "3        log_loss         9         None         0.833169        0.043035   \n",
       "4        log_loss        14         None         0.831507        0.035637   \n",
       "\n",
       "   rank_test_score  \n",
       "0                1  \n",
       "1                2  \n",
       "2                3  \n",
       "3                4  \n",
       "4                5  "
      ]
     },
     "metadata": {},
     "output_type": "display_data"
    },
    {
     "name": "stdout",
     "output_type": "stream",
     "text": [
      "\n",
      "----Confusion Matrix----\n"
     ]
    },
    {
     "data": {
      "image/png": "[encoded data removed]",
      "text/plain": [
       "<Figure size 640x480 with 2 Axes>"
      ]
     },
     "metadata": {},
     "output_type": "display_data"
    }
   ],
   "source": [
    "print(\"Accuracy:\", accuracy_score(y_test, y_pred))\n",
    "\n",
    "f1 = f1_score(y_test, y_pred)\n",
    "print(\"F1_score\", f1)\n",
    "print(\"Micro F1_score:\", f1_score(y_test, y_pred, average=\"micro\"))\n",
    "print(\"Weighted F1_score:\", f1_score(y_test, y_pred, average=\"weighted\"))\n",
    "\n",
    "print(classification_report(y_test, y_pred))\n",
    "\n",
    "\n",
    "print(\"----Top 5 models----\")\n",
    "display(dt_results.sort_values(\"rank_test_score\").iloc[[0, 1, 2, 3, 4], [0, 1, 2, 8, 9, 10]].reset_index(drop=True))\n",
    "\n",
    "print(\"\\n----Confusion Matrix----\")\n",
    "cm = confusion_matrix(y_test, y_pred)\n",
    "\n",
    "labels = [\"benign\", \"malignant\"]\n",
    "disp = ConfusionMatrixDisplay(confusion_matrix=cm, display_labels=labels)\n",
    "\n",
    "disp.plot()\n",
    "plt.show()"
   ]
  },
  {
   "cell_type": "markdown",
   "metadata": {},
   "source": [
    "## 3. Naive Bayes "
   ]
  },
  {
   "cell_type": "code",
   "execution_count": 32,
   "metadata": {},
   "outputs": [],
   "source": [
    "from sklearn.naive_bayes import GaussianNB"
   ]
  },
  {
   "cell_type": "code",
   "execution_count": 33,
   "metadata": {},
   "outputs": [],
   "source": [
    "cv = StratifiedKFold(5, random_state=1, shuffle=True)\n",
    "clf = GaussianNB()\n",
    "\n",
    "# clf = GridSearchCV(estimator=dt, param_grid=params, scoring=\"f1\", cv=cv, n_jobs=-1) # The best model is chosen based on the metric of the refit param. Can be set to any metric listed in the \"scoring\" list above\n",
    "#NB dont need hyperparameter tuning! \n",
    "clf.fit(X_train, y_train)\n",
    "scores = cross_val_score(clf, X_train, y_train, cv=cv)\n",
    "\n",
    "y_pred = clf.predict(X_test)\n"
   ]
  },
  {
   "cell_type": "code",
   "execution_count": 34,
   "metadata": {},
   "outputs": [
    {
     "name": "stdout",
     "output_type": "stream",
     "text": [
      "Cross-validated scores: [0.67567568 0.64864865 0.7027027  0.59459459 0.69444444]\n",
      "Mean accuracy: 0.6632132132132134\n",
      "Standard deviation of accuracy: 0.03901477647525414\n",
      "Accuracy: 0.6595744680851063\n",
      "F1_score 0.6799999999999999\n",
      "Micro F1_score: 0.6595744680851063\n",
      "Weighted F1_score: 0.6651450676982591\n",
      "              precision    recall  f1-score   support\n",
      "\n",
      "           0       0.50      0.88      0.64        16\n",
      "           1       0.89      0.55      0.68        31\n",
      "\n",
      "    accuracy                           0.66        47\n",
      "   macro avg       0.70      0.71      0.66        47\n",
      "weighted avg       0.76      0.66      0.67        47\n",
      "\n",
      "----Model evaluation----\n"
     ]
    },
    {
     "data": {
      "text/html": [
       "<div>\n",
       "<style scoped>\n",
       "    .dataframe tbody tr th:only-of-type {\n",
       "        vertical-align: middle;\n",
       "    }\n",
       "\n",
       "    .dataframe tbody tr th {\n",
       "        vertical-align: top;\n",
       "    }\n",
       "\n",
       "    .dataframe thead th {\n",
       "        text-align: right;\n",
       "    }\n",
       "</style>\n",
       "<table border=\"1\" class=\"dataframe\">\n",
       "  <thead>\n",
       "    <tr style=\"text-align: right;\">\n",
       "      <th></th>\n",
       "      <th>mean_accuracy_score</th>\n",
       "      <th>weighted_precision_score</th>\n",
       "      <th>weighted_recall_score</th>\n",
       "      <th>weighted_f1_score</th>\n",
       "    </tr>\n",
       "  </thead>\n",
       "  <tbody>\n",
       "    <tr>\n",
       "      <th>0</th>\n",
       "      <td>0.760358</td>\n",
       "      <td>0.659574</td>\n",
       "      <td>0.665145</td>\n",
       "      <td>0.659574</td>\n",
       "    </tr>\n",
       "  </tbody>\n",
       "</table>\n",
       "</div>"
      ],
      "text/plain": [
       "   mean_accuracy_score  weighted_precision_score  weighted_recall_score  \\\n",
       "0             0.760358                  0.659574               0.665145   \n",
       "\n",
       "   weighted_f1_score  \n",
       "0           0.659574  "
      ]
     },
     "metadata": {},
     "output_type": "display_data"
    },
    {
     "name": "stdout",
     "output_type": "stream",
     "text": [
      "\n",
      "----Confusion Matrix----\n"
     ]
    },
    {
     "data": {
      "image/png": "[encoded data removed]",
      "text/plain": [
       "<Figure size 640x480 with 2 Axes>"
      ]
     },
     "metadata": {},
     "output_type": "display_data"
    }
   ],
   "source": [
    "# Print the cross-validated scores\n",
    "print(\"Cross-validated scores:\", scores)\n",
    "\n",
    "# Calculate and print the mean accuracy and its standard deviation\n",
    "print(\"Mean accuracy:\", scores.mean())\n",
    "print(\"Standard deviation of accuracy:\", scores.std())\n",
    "\n",
    "print(\"Accuracy:\", accuracy_score(y_test, y_pred))\n",
    "\n",
    "f1 = f1_score(y_test, y_pred)\n",
    "print(\"F1_score\", f1)\n",
    "print(\"Micro F1_score:\", f1_score(y_test, y_pred, average=\"micro\"))\n",
    "print(\"Weighted F1_score:\", f1_score(y_test, y_pred, average=\"weighted\"))\n",
    "\n",
    "print(classification_report(y_test, y_pred))\n",
    "\n",
    "\n",
    "# NEED TO CHANGE WEIGHTED OR NOT? CHECK DATASET. Weighted is for unbalanced\n",
    "results = []\n",
    "results.append([\n",
    "    precision_score(y_test, y_pred, average='weighted'),\n",
    "    recall_score(y_test, y_pred, average='weighted'), \n",
    "    f1_score(y_test, y_pred, average='weighted'), \n",
    "    clf.score(X_test, y_test)\n",
    "])\n",
    "\n",
    "print(\"----Model evaluation----\")\n",
    "display(pd.DataFrame(results, columns=[\"mean_accuracy_score\", \"weighted_precision_score\", \"weighted_recall_score\", \"weighted_f1_score\"]))\n",
    "\n",
    "print(\"\\n----Confusion Matrix----\")\n",
    "cm = confusion_matrix(y_test, y_pred, labels=clf.classes_)\n",
    "disp = ConfusionMatrixDisplay(confusion_matrix=cm, display_labels=clf.classes_)\n",
    "disp.plot()\n",
    "plt.show()"
   ]
  },
  {
   "cell_type": "markdown",
   "metadata": {},
   "source": [
    "## 4. Support Vector Machine (SVM)"
   ]
  },
  {
   "cell_type": "code",
   "execution_count": 35,
   "metadata": {},
   "outputs": [],
   "source": [
    "from sklearn.svm import SVC"
   ]
  },
  {
   "cell_type": "code",
   "execution_count": 36,
   "metadata": {},
   "outputs": [],
   "source": [
    "## Normalize to speed up process\n",
    "def normalize_image(image):\n",
    "    image_float = image.astype(float)\n",
    "    min_val = np.min(image_float.ravel())\n",
    "    max_val = np.max(image_float.ravel())\n",
    "    normalized = (image_float - min_val) / (max_val - min_val)\n",
    "    return normalized"
   ]
  },
  {
   "cell_type": "code",
   "execution_count": 37,
   "metadata": {},
   "outputs": [],
   "source": [
    "# Repeat same process but w normalized images now\n",
    "\n",
    "# Read and normalize training data\n",
    "X_train, y_train = read_images_from_dir(\"Brain_Tumor/Train\")\n",
    "X_train = np.array([normalize_image(img) for img in X_train])\n",
    "y_train = encoder.fit_transform(y_train)\n",
    "# Apply PCA\n",
    "n_components = 150\n",
    "pca = PCA(n_components=n_components, whiten=True).fit(X_train)\n",
    "X_train_pca = pca.transform(X_train)"
   ]
  },
  {
   "cell_type": "code",
   "execution_count": 38,
   "metadata": {},
   "outputs": [],
   "source": [
    "# Read and normalize test data\n",
    "X_test, y_test = read_images_from_dir('Brain_Tumor/Test')\n",
    "X_test = np.array([normalize_image(img) for img in X_test])\n",
    "y_test = encoder.transform(y_test)\n",
    "X_test_pca = pca.transform(X_test)"
   ]
  },
  {
   "cell_type": "code",
   "execution_count": 39,
   "metadata": {},
   "outputs": [],
   "source": [
    "# SCALE the PCA data (optional but can be beneficial for SVM)\n",
    "scaler = StandardScaler().fit(X_train_pca)\n",
    "X_train_pca = scaler.transform(X_train_pca)\n",
    "X_test_pca = scaler.transform(X_test_pca)\n",
    "#After PCA, data is scaled using StandardScaler as SVM often performs better when the input data is centered and has unit variance."
   ]
  },
  {
   "cell_type": "code",
   "execution_count": 40,
   "metadata": {},
   "outputs": [],
   "source": [
    "# SVM with Grid Search\n",
    "params = {\n",
    "    \"C\": [0.1, 1, 10, 100],\n",
    "    \"gamma\": [\"scale\", 0.1, 1, 10],\n",
    "    \"kernel\": [\"linear\", \"rbf\"]\n",
    "}\n",
    "\n",
    "cv = StratifiedKFold(5, random_state=1, shuffle=True)\n",
    "svm = SVC()\n",
    "\n",
    "clf = GridSearchCV(estimator=svm, param_grid=params, scoring=\"f1\", cv=cv, n_jobs=-1)\n",
    "clf.fit(X_train_pca, y_train)\n",
    "\n",
    "y_pred = clf.predict(X_test_pca)\n",
    "\n",
    "svm_results = pd.DataFrame(clf.cv_results_).drop([\"mean_fit_time\", \"std_fit_time\", \"mean_score_time\", \"std_score_time\", \"params\"], axis=1)\n",
    "svm_results.to_csv(f\"Results/svm_results.csv\")"
   ]
  },
  {
   "cell_type": "code",
   "execution_count": 41,
   "metadata": {},
   "outputs": [
    {
     "name": "stdout",
     "output_type": "stream",
     "text": [
      "Accuracy: 0.8085106382978723\n",
      "F1_score 0.8695652173913043\n",
      "Micro F1_score: 0.8085106382978723\n",
      "Weighted F1_score: 0.7914153561517113\n",
      "              precision    recall  f1-score   support\n",
      "\n",
      "           0       0.89      0.50      0.64        16\n",
      "           1       0.79      0.97      0.87        31\n",
      "\n",
      "    accuracy                           0.81        47\n",
      "   macro avg       0.84      0.73      0.75        47\n",
      "weighted avg       0.82      0.81      0.79        47\n",
      "\n",
      "----Top 5 models----\n"
     ]
    },
    {
     "data": {
      "text/html": [
       "<div>\n",
       "<style scoped>\n",
       "    .dataframe tbody tr th:only-of-type {\n",
       "        vertical-align: middle;\n",
       "    }\n",
       "\n",
       "    .dataframe tbody tr th {\n",
       "        vertical-align: top;\n",
       "    }\n",
       "\n",
       "    .dataframe thead th {\n",
       "        text-align: right;\n",
       "    }\n",
       "</style>\n",
       "<table border=\"1\" class=\"dataframe\">\n",
       "  <thead>\n",
       "    <tr style=\"text-align: right;\">\n",
       "      <th></th>\n",
       "      <th>param_C</th>\n",
       "      <th>param_gamma</th>\n",
       "      <th>param_kernel</th>\n",
       "      <th>mean_test_score</th>\n",
       "      <th>std_test_score</th>\n",
       "      <th>rank_test_score</th>\n",
       "    </tr>\n",
       "  </thead>\n",
       "  <tbody>\n",
       "    <tr>\n",
       "      <th>0</th>\n",
       "      <td>100</td>\n",
       "      <td>scale</td>\n",
       "      <td>rbf</td>\n",
       "      <td>0.855112</td>\n",
       "      <td>0.031559</td>\n",
       "      <td>1</td>\n",
       "    </tr>\n",
       "    <tr>\n",
       "      <th>1</th>\n",
       "      <td>10</td>\n",
       "      <td>scale</td>\n",
       "      <td>rbf</td>\n",
       "      <td>0.855112</td>\n",
       "      <td>0.031559</td>\n",
       "      <td>1</td>\n",
       "    </tr>\n",
       "    <tr>\n",
       "      <th>2</th>\n",
       "      <td>100</td>\n",
       "      <td>1</td>\n",
       "      <td>rbf</td>\n",
       "      <td>0.851865</td>\n",
       "      <td>0.026223</td>\n",
       "      <td>3</td>\n",
       "    </tr>\n",
       "    <tr>\n",
       "      <th>3</th>\n",
       "      <td>100</td>\n",
       "      <td>0.1</td>\n",
       "      <td>rbf</td>\n",
       "      <td>0.851865</td>\n",
       "      <td>0.026223</td>\n",
       "      <td>3</td>\n",
       "    </tr>\n",
       "    <tr>\n",
       "      <th>4</th>\n",
       "      <td>10</td>\n",
       "      <td>1</td>\n",
       "      <td>rbf</td>\n",
       "      <td>0.851865</td>\n",
       "      <td>0.026223</td>\n",
       "      <td>3</td>\n",
       "    </tr>\n",
       "  </tbody>\n",
       "</table>\n",
       "</div>"
      ],
      "text/plain": [
       "  param_C param_gamma param_kernel  mean_test_score  std_test_score  \\\n",
       "0     100       scale          rbf         0.855112        0.031559   \n",
       "1      10       scale          rbf         0.855112        0.031559   \n",
       "2     100           1          rbf         0.851865        0.026223   \n",
       "3     100         0.1          rbf         0.851865        0.026223   \n",
       "4      10           1          rbf         0.851865        0.026223   \n",
       "\n",
       "   rank_test_score  \n",
       "0                1  \n",
       "1                1  \n",
       "2                3  \n",
       "3                3  \n",
       "4                3  "
      ]
     },
     "metadata": {},
     "output_type": "display_data"
    },
    {
     "name": "stdout",
     "output_type": "stream",
     "text": [
      "\n",
      "----Confusion Matrix----\n"
     ]
    },
    {
     "data": {
      "image/png": "[encoded data removed]",
      "text/plain": [
       "<Figure size 640x480 with 2 Axes>"
      ]
     },
     "metadata": {},
     "output_type": "display_data"
    }
   ],
   "source": [
    "print(\"Accuracy:\", accuracy_score(y_test, y_pred))\n",
    "\n",
    "f1 = f1_score(y_test, y_pred)\n",
    "print(\"F1_score\", f1)\n",
    "print(\"Micro F1_score:\", f1_score(y_test, y_pred, average=\"micro\"))\n",
    "print(\"Weighted F1_score:\", f1_score(y_test, y_pred, average=\"weighted\"))\n",
    "\n",
    "print(classification_report(y_test, y_pred))\n",
    "\n",
    "print(\"----Top 5 models----\")\n",
    "display(svm_results.sort_values(\"rank_test_score\").iloc[[0, 1, 2, 3, 4], [0, 1, 2, 8, 9, 10]].reset_index(drop=True))\n",
    "\n",
    "print(\"\\n----Confusion Matrix----\")\n",
    "cm = confusion_matrix(y_test, y_pred)\n",
    "labels = [\"benign\", \"malignant\"]\n",
    "disp = ConfusionMatrixDisplay(confusion_matrix=cm, display_labels=labels)\n",
    "disp.plot()\n",
    "plt.show()"
   ]
  }
 ],
 "metadata": {
  "kernelspec": {
   "display_name": ".venv",
   "language": "python",
   "name": "python3"
  },
  "language_info": {
   "codemirror_mode": {
    "name": "ipython",
    "version": 3
   },
   "file_extension": ".py",
   "mimetype": "text/x-python",
   "name": "python",
   "nbconvert_exporter": "python",
   "pygments_lexer": "ipython3",
   "version": "3.11.2"
  }
 },
 "nbformat": 4,
 "nbformat_minor": 2
}
