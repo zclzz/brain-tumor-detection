{
 "cells": [
  {
   "cell_type": "code",
   "execution_count": 1,
   "metadata": {},
   "outputs": [
    {
     "name": "stderr",
     "output_type": "stream",
     "text": [
      "C:\\Users\\Acer\\AppData\\Local\\Temp\\ipykernel_45132\\989641640.py:18: DeprecationWarning: `magic(...)` is deprecated since IPython 0.13 (warning added in 8.1), use run_line_magic(magic_name, parameter_s).\n",
      "  get_ipython().magic(u'matplotlib inline')\n"
     ]
    }
   ],
   "source": [
    "import tensorflow as tf\n",
    "import os\n",
    "os.environ[\"CUDA_DEVICE_ORDER\"] = \"PCI_BUS_ID\" \n",
    "os.environ['CUDA_VISIBLE_DEVICES'] = '0' \n",
    "from keras.layers import Conv2D, Input, ZeroPadding2D, BatchNormalization, Activation, MaxPooling2D, Flatten, Dense,Dropout\n",
    "from keras.models import Model, load_model\n",
    "from keras.callbacks import TensorBoard, ModelCheckpoint, ReduceLROnPlateau\n",
    "from sklearn.model_selection import train_test_split\n",
    "from sklearn.metrics import f1_score\n",
    "from sklearn.utils import shuffle\n",
    "import cv2\n",
    "import imutils\n",
    "import numpy as np\n",
    "import matplotlib.pyplot as plt\n",
    "import time\n",
    "from os import listdir\n",
    "\n",
    "get_ipython().magic(u'matplotlib inline')"
   ]
  },
  {
   "cell_type": "markdown",
   "metadata": {},
   "source": [
    "Prprocess the data\n",
    "- Guassian blur to remove salt and pepper noise\n",
    "- Thresholding to remove background\n",
    "- Erosion to remove small noise\n",
    "- Dilation to make the image clear\n",
    "- Contour to find the brain tumor\n",
    "- Crop the image to remove the background"
   ]
  },
  {
   "cell_type": "code",
   "execution_count": 2,
   "metadata": {},
   "outputs": [],
   "source": [
    "def crop_contour_brain_img(image, plot=False):\n",
    "    grayscale = cv2.cvtColor(image, cv2.COLOR_BGR2GRAY)\n",
    "    print(grayscale.shape)\n",
    "    grayscale = cv2.GaussianBlur(grayscale, (5,5), 0)\n",
    "    threshold_image = cv2.threshold(grayscale, 45, 255, cv2.THRESH_BINARY)[1]\n",
    "    threshold_image = cv2.erode(threshold_image, None, iterations=2)\n",
    "    threshold_image = cv2.dilate(threshold_image, None, iterations=2)\n",
    "\n",
    "    contour = cv2.findContours(threshold_image.copy(), cv2.RETR_EXTERNAL, cv2.CHAIN_APPROX_SIMPLE)\n",
    "    contour = imutils.grab_contours(contour)\n",
    "    c = max(contour, key=cv2.contourArea)\n",
    "    \n",
    "    extreme_pnts_left = tuple(c[c[:, :, 0].argmin()][0])\n",
    "    extreme_pnts_right = tuple(c[c[:, :, 0].argmax()][0])\n",
    "    extreme_pnts_top = tuple(c[c[:, :, 1].argmin()][0])\n",
    "    extreme_pnts_bot = tuple(c[c[:, :, 1].argmax()][0])\n",
    "    \n",
    "    new_image = image[extreme_pnts_top[1]:extreme_pnts_bot[1], extreme_pnts_left[0]:extreme_pnts_right[0]]\n",
    "    # new_image = cv2.cvtColor(new_image, cv2.COLOR_BGR2GRAY)\n",
    "    \n",
    "    if plot:\n",
    "        plt.figure()\n",
    "        plt.subplot(1,2,1)\n",
    "        plt.imshow(image)\n",
    "        \n",
    "        plt.tick_params(axis='both', which='both',\n",
    "                        top = False, bottom=False, left=False, right=False, labelbottom=False,\n",
    "                        labeltop=False, labelleft=False, labelright=False)\n",
    "        plt.title('original image')\n",
    "        plt.subplot(1,2,2)\n",
    "        plt.imshow(new_image)\n",
    "        \n",
    "        plt.tick_params(axis='both', which='both',\n",
    "                        top = False, bottom=False, left=False, right=False, labelbottom=False,\n",
    "                        labeltop=False, labelleft=False, labelright=False)\n",
    "        \n",
    "        plt.title('Cropped image')\n",
    "        plt.show()\n",
    "\n",
    "        # print(new_image.shape)\n",
    "    return new_image"
   ]
  },
  {
   "cell_type": "markdown",
   "metadata": {},
   "source": [
    "Example how preprocessed image looks like:"
   ]
  },
  {
   "cell_type": "code",
   "execution_count": 3,
   "metadata": {},
   "outputs": [
    {
     "name": "stdout",
     "output_type": "stream",
     "text": [
      "(380, 294)\n"
     ]
    }
   ],
   "source": [
    "example_image = cv2.imread('22_malignant.jpg')\n",
    "example_new_image = crop_contour_brain_img(example_image, False)\n",
    "# save the cropped image\n",
    "# cv2.imwrite('preprocessed/22_malignant_new.jpg', example_new_image)"
   ]
  },
  {
   "cell_type": "markdown",
   "metadata": {},
   "source": [
    "We preprocess our orginal dataset"
   ]
  },
  {
   "cell_type": "code",
   "execution_count": 7,
   "metadata": {},
   "outputs": [
    {
     "name": "stdout",
     "output_type": "stream",
     "text": [
      "(201, 173)\n",
      "(168, 300)\n",
      "(168, 300)\n",
      "(225, 225)\n",
      "(250, 201)\n",
      "(192, 192)\n",
      "(417, 428)\n",
      "(201, 173)\n",
      "(218, 180)\n",
      "(360, 319)\n",
      "(369, 400)\n",
      "(500, 377)\n",
      "(325, 254)\n",
      "(380, 310)\n",
      "(360, 313)\n",
      "(354, 279)\n",
      "(359, 297)\n",
      "(212, 209)\n",
      "(300, 240)\n",
      "(380, 294)\n",
      "(225, 225)\n",
      "(938, 911)\n",
      "(456, 374)\n",
      "(630, 630)\n"
     ]
    }
   ],
   "source": [
    "# data_dir = 'data_new/train/'\n",
    "\n",
    "# for label in os.listdir(data_dir):\n",
    "#     for file in os.listdir(os.path.join(data_dir, label)):\n",
    "#         img = cv2.imread(os.path.join(data_dir, label, file))\n",
    "#         processed_img = crop_contour_brain_img(img, False)\n",
    "#         # save to preprocessed/ label folder\n",
    "#         cv2.imwrite('preprocessed/' + label + '/' + file, processed_img)\n",
    "#         # processed_images.append(processed_img)\n",
    "#         # true_labels.append(label)\n",
    "#         # file_names.append(file)\n",
    "\n",
    "# Code hang so I had to do preprocessing class by class\n",
    "\n",
    "# data_label = 'data_new/train/malignant/'\n",
    "# for file in os.listdir(data_label):\n",
    "#     img = cv2.imread(os.path.join(data_label, file))\n",
    "#     processed_img = crop_contour_brain_img(img, True)\n",
    "#     print(file)\n",
    "#     # save to preprocessed/ label folder\n",
    "#     cv2.imwrite('preprocessed/malignant/' + file, processed_img)\n",
    "    \n",
    "test_dir = 'data_new/valid/'\n",
    "\n",
    "for label in os.listdir(test_dir):\n",
    "    for file in os.listdir(os.path.join(test_dir, label)):\n",
    "        img = cv2.imread(os.path.join(test_dir, label, file))\n",
    "        processed_img = crop_contour_brain_img(img, False)\n",
    "        # save to preprocessed/ label folder\n",
    "        cv2.imwrite('preprocessed/valid/' + label + '/' + file, processed_img)\n",
    "        # processed_images.append(processed_img)\n",
    "        # true_labels.append(label)\n",
    "        # file_names.append(file)    "
   ]
  },
  {
   "cell_type": "markdown",
   "metadata": {},
   "source": [
    "Split the dataset into train and test (20%)"
   ]
  },
  {
   "cell_type": "code",
   "execution_count": 8,
   "metadata": {},
   "outputs": [],
   "source": [
    "data_dir = 'preprocessed'\n",
    "# Obtain 10% of the data for testing\n",
    "for label in os.listdir(data_dir):\n",
    "    # Take randomly 20% of the data for testing and move to test folder\n",
    "    files = listdir(os.path.join(data_dir, label))\n",
    "    test_files = np.random.choice(files, int(len(files)*0.2), replace=False) # replace=False means no duplicates\n",
    "    for file in test_files:\n",
    "        os.rename(os.path.join(data_dir, label, file), os.path.join(data_dir, 'test', label, file))"
   ]
  },
  {
   "cell_type": "code",
   "execution_count": 10,
   "metadata": {},
   "outputs": [
    {
     "name": "stdout",
     "output_type": "stream",
     "text": [
      "Number of benign images: 62\n",
      "Number of malignant images: 124\n"
     ]
    }
   ],
   "source": [
    "# Directory containing the existing benign images\n",
    "benign_dir = 'preprocessed/benign'\n",
    "# Directory containing the existing malignant images\n",
    "malignant = 'preprocessed/malignant'\n",
    "\n",
    "# Count the number of benign and malignant images\n",
    "benign_count = len(listdir(benign_dir))\n",
    "malignant_count = len(listdir(malignant))\n",
    "print('Number of benign images:', benign_count)\n",
    "print('Number of malignant images:', malignant_count)"
   ]
  },
  {
   "cell_type": "code",
   "execution_count": 11,
   "metadata": {},
   "outputs": [],
   "source": [
    "# Increase the number of benign images to match the number of malignant images by flipping the existing benign images\n",
    "for file in listdir(benign_dir):\n",
    "    img = cv2.imread(os.path.join(benign_dir, file))\n",
    "    flipped_img = cv2.flip(img, 1)\n",
    "    cv2.imwrite(os.path.join(benign_dir, file[:-4] + '_flipped.jpg'), flipped_img)"
   ]
  },
  {
   "cell_type": "code",
   "execution_count": null,
   "metadata": {},
   "outputs": [],
   "source": []
  }
 ],
 "metadata": {
  "kernelspec": {
   "display_name": "Python 3 (ipykernel)",
   "language": "python",
   "name": "python3"
  },
  "language_info": {
   "codemirror_mode": {
    "name": "ipython",
    "version": 3
   },
   "file_extension": ".py",
   "mimetype": "text/x-python",
   "name": "python",
   "nbconvert_exporter": "python",
   "pygments_lexer": "ipython3",
   "version": "3.10.6"
  }
 },
 "nbformat": 4,
 "nbformat_minor": 2
}
