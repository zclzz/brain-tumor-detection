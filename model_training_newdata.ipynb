{
 "cells": [
  {
   "cell_type": "markdown",
   "metadata": {},
   "source": [
    "# Model training"
   ]
  },
  {
   "cell_type": "code",
   "execution_count": 41,
   "metadata": {},
   "outputs": [],
   "source": [
    "import os\n",
    "import numpy as np\n",
    "import pandas as pd\n",
    "import cv2\n",
    "import matplotlib.pyplot as plt\n",
    "from sklearn.decomposition import PCA\n",
    "from sklearn.neighbors import KNeighborsClassifier\n",
    "from sklearn.model_selection import GridSearchCV, StratifiedKFold, cross_val_score\n",
    "from sklearn.metrics import confusion_matrix, ConfusionMatrixDisplay, accuracy_score, classification_report, precision_score, recall_score, f1_score \n",
    "from sklearn.preprocessing import LabelEncoder, StandardScaler"
   ]
  },
  {
   "cell_type": "code",
   "execution_count": 22,
   "metadata": {},
   "outputs": [],
   "source": [
    "# Read images from a directory, convert to grayscale and resize\n",
    "def read_images_from_dir(directory, size=(64, 64)): #NEED TO FIX THE RESIZE AGAIN!!! \n",
    "    images = []\n",
    "    labels = []\n",
    "    for folder in ['Malignant', 'Benign']:\n",
    "        folder_path = os.path.join(directory, folder)\n",
    "        for filename in os.listdir(folder_path):\n",
    "            if filename.endswith(\".jpg\"):  # You can also add other formats if needed\n",
    "                img_path = os.path.join(folder_path, filename)\n",
    "                img = cv2.imread(img_path, cv2.IMREAD_GRAYSCALE)\n",
    "                img_resized = cv2.resize(img, size)\n",
    "                images.append(img_resized.ravel())  # Convert 2D image to 1D\n",
    "                labels.append(folder)\n",
    "    return np.array(images), np.array(labels)"
   ]
  },
  {
   "cell_type": "code",
   "execution_count": 23,
   "metadata": {},
   "outputs": [],
   "source": [
    "# Encode labels\n",
    "encoder = LabelEncoder()\n",
    "# Read training data\n",
    "X_train, y_train = read_images_from_dir(\"cleaned_data/Train\")\n",
    "y_train = encoder.fit_transform(y_train)  # Fit and transform the training labels"
   ]
  },
  {
   "cell_type": "code",
   "execution_count": 24,
   "metadata": {},
   "outputs": [],
   "source": [
    "# Apply PCA\n",
    "n_components = 750  # New value for new data\n",
    "pca = PCA(n_components=n_components, whiten=True).fit(X_train)\n",
    "X_train_pca = pca.transform(X_train) # same as fit.transform()"
   ]
  },
  {
   "cell_type": "code",
   "execution_count": 25,
   "metadata": {},
   "outputs": [],
   "source": [
    "# Read test data\n",
    "X_test, y_test = read_images_from_dir('cleaned_data/Test')\n",
    "y_test = encoder.transform(y_test)  # Use the encoder fitted on training data to transform test labels\n",
    "X_test_pca = pca.transform(X_test)  # Use the same PCA object to transform test data"
   ]
  },
  {
   "cell_type": "markdown",
   "metadata": {},
   "source": [
    "## 1. KNN"
   ]
  },
  {
   "cell_type": "code",
   "execution_count": 26,
   "metadata": {},
   "outputs": [],
   "source": [
    "cv = StratifiedKFold(5, random_state=1, shuffle=True)\n",
    "knn = KNeighborsClassifier()\n",
    "\n",
    "params = {\n",
    "    \"weights\": [\"uniform\", \"distance\"],\n",
    "    \"n_neighbors\": np.arange(1, 39, 1), #square root of number of training images\n",
    "    \"metric\": [\"cityblock\", \"euclidean\", \"cosine\", \"l1\", \"l2\", \"manhattan\", \"nan_euclidean\"]\n",
    "}\n",
    "\n",
    "clf = GridSearchCV(estimator=knn, param_grid=params, scoring=\"f1\", cv=cv, n_jobs=-1) #cuz im using alr balanced data, so use F1 rather than f1 weighted\n",
    "clf.fit(X_train, y_train)\n",
    "\n",
    "y_pred = clf.predict(X_test)\n",
    "\n",
    "knn_results = pd.DataFrame(clf.cv_results_).drop([\"mean_fit_time\", \"std_fit_time\", \"mean_score_time\", \"std_score_time\", \"params\"], axis=1).rename(columns={\"param_metric\": \"metric\", \"param_n_neighbors\": \"n_neighbors\", \"param_weights\": \"weights\"})\n",
    "knn_results.to_csv(f\"Results_New/knn_results.csv\")"
   ]
  },
  {
   "cell_type": "code",
   "execution_count": 27,
   "metadata": {},
   "outputs": [
    {
     "name": "stdout",
     "output_type": "stream",
     "text": [
      "Accuracy: 0.9361702127659575\n",
      "              precision    recall  f1-score   support\n",
      "\n",
      "           0       0.93      0.88      0.90        16\n",
      "           1       0.94      0.97      0.95        31\n",
      "\n",
      "    accuracy                           0.94        47\n",
      "   macro avg       0.94      0.92      0.93        47\n",
      "weighted avg       0.94      0.94      0.94        47\n",
      "\n",
      "F1_score 0.9523809523809523\n",
      "Micro F1_score: 0.9361702127659575\n",
      "Weighted F1_score: 0.9356472856816027\n",
      "----Top 5 models----\n"
     ]
    },
    {
     "data": {
      "text/html": [
       "<div>\n",
       "<style scoped>\n",
       "    .dataframe tbody tr th:only-of-type {\n",
       "        vertical-align: middle;\n",
       "    }\n",
       "\n",
       "    .dataframe tbody tr th {\n",
       "        vertical-align: top;\n",
       "    }\n",
       "\n",
       "    .dataframe thead th {\n",
       "        text-align: right;\n",
       "    }\n",
       "</style>\n",
       "<table border=\"1\" class=\"dataframe\">\n",
       "  <thead>\n",
       "    <tr style=\"text-align: right;\">\n",
       "      <th></th>\n",
       "      <th>metric</th>\n",
       "      <th>n_neighbors</th>\n",
       "      <th>weights</th>\n",
       "      <th>mean_test_score</th>\n",
       "      <th>std_test_score</th>\n",
       "      <th>rank_test_score</th>\n",
       "    </tr>\n",
       "  </thead>\n",
       "  <tbody>\n",
       "    <tr>\n",
       "      <th>0</th>\n",
       "      <td>cosine</td>\n",
       "      <td>1</td>\n",
       "      <td>uniform</td>\n",
       "      <td>0.976478</td>\n",
       "      <td>0.003922</td>\n",
       "      <td>1</td>\n",
       "    </tr>\n",
       "    <tr>\n",
       "      <th>1</th>\n",
       "      <td>cosine</td>\n",
       "      <td>1</td>\n",
       "      <td>distance</td>\n",
       "      <td>0.976478</td>\n",
       "      <td>0.003922</td>\n",
       "      <td>1</td>\n",
       "    </tr>\n",
       "    <tr>\n",
       "      <th>2</th>\n",
       "      <td>cosine</td>\n",
       "      <td>2</td>\n",
       "      <td>distance</td>\n",
       "      <td>0.976478</td>\n",
       "      <td>0.003922</td>\n",
       "      <td>1</td>\n",
       "    </tr>\n",
       "    <tr>\n",
       "      <th>3</th>\n",
       "      <td>cosine</td>\n",
       "      <td>3</td>\n",
       "      <td>distance</td>\n",
       "      <td>0.976437</td>\n",
       "      <td>0.003994</td>\n",
       "      <td>4</td>\n",
       "    </tr>\n",
       "    <tr>\n",
       "      <th>4</th>\n",
       "      <td>cosine</td>\n",
       "      <td>5</td>\n",
       "      <td>distance</td>\n",
       "      <td>0.976080</td>\n",
       "      <td>0.005600</td>\n",
       "      <td>5</td>\n",
       "    </tr>\n",
       "  </tbody>\n",
       "</table>\n",
       "</div>"
      ],
      "text/plain": [
       "   metric n_neighbors   weights  mean_test_score  std_test_score  \\\n",
       "0  cosine           1   uniform         0.976478        0.003922   \n",
       "1  cosine           1  distance         0.976478        0.003922   \n",
       "2  cosine           2  distance         0.976478        0.003922   \n",
       "3  cosine           3  distance         0.976437        0.003994   \n",
       "4  cosine           5  distance         0.976080        0.005600   \n",
       "\n",
       "   rank_test_score  \n",
       "0                1  \n",
       "1                1  \n",
       "2                1  \n",
       "3                4  \n",
       "4                5  "
      ]
     },
     "metadata": {},
     "output_type": "display_data"
    },
    {
     "name": "stdout",
     "output_type": "stream",
     "text": [
      "\n",
      "----Confusion Matrix----\n"
     ]
    },
    {
     "data": {
      "image/png": "[encoded data removed]",
      "text/plain": [
       "<Figure size 640x480 with 2 Axes>"
      ]
     },
     "metadata": {},
     "output_type": "display_data"
    }
   ],
   "source": [
    "print(\"Accuracy:\", accuracy_score(y_test, y_pred))\n",
    "print(classification_report(y_test, y_pred))\n",
    "f1 = f1_score(y_test, y_pred)\n",
    "print(\"F1_score\", f1)\n",
    "print(\"Micro F1_score:\", f1_score(y_test, y_pred, average=\"micro\"))\n",
    "print(\"Weighted F1_score:\", f1_score(y_test, y_pred, average=\"weighted\"))\n",
    "\n",
    "print(\"----Top 5 models----\")\n",
    "display(knn_results.sort_values(\"rank_test_score\").iloc[[0, 1, 2, 3, 4], [0, 1, 2, 8, 9, 10]].reset_index(drop=True))\n",
    "\n",
    "print(\"\\n----Confusion Matrix----\")\n",
    "cm = confusion_matrix(y_test, y_pred)\n",
    "\n",
    "labels = [\"benign\", \"malignant\"]\n",
    "disp = ConfusionMatrixDisplay(confusion_matrix=cm, display_labels=labels)\n",
    "\n",
    "disp.plot()\n",
    "plt.show()"
   ]
  },
  {
   "cell_type": "markdown",
   "metadata": {},
   "source": [
    "## 2. Decision Tree (DT)"
   ]
  },
  {
   "cell_type": "code",
   "execution_count": 28,
   "metadata": {},
   "outputs": [],
   "source": [
    "from sklearn.tree import DecisionTreeClassifier"
   ]
  },
  {
   "cell_type": "code",
   "execution_count": 29,
   "metadata": {},
   "outputs": [],
   "source": [
    "cv = StratifiedKFold(5, random_state=1, shuffle=True)\n",
    "dt = DecisionTreeClassifier()\n",
    "\n",
    "params = {\n",
    "    \"max_depth\" : np.arange(5, 15, 1),\n",
    "    \"criterion\": [\"gini\", \"entropy\", \"log_loss\"],\n",
    "    \"max_features\":  [\"sqrt\", \"log2\", None]\n",
    "}\n",
    "\n",
    "clf = GridSearchCV(estimator=dt, param_grid=params, scoring=\"f1\", cv=cv, n_jobs=-1) # The best model is chosen based on the metric of the refit param. Can be set to any metric listed in the \"scoring\" list above\n",
    "clf.fit(X_train, y_train)\n",
    "\n",
    "y_pred = clf.predict(X_test)\n",
    "\n",
    "dt_results = pd.DataFrame(clf.cv_results_).drop([\"mean_fit_time\", \"std_fit_time\", \"mean_score_time\", \"std_score_time\", \"params\"], axis=1).rename(columns={\"param_max_depth\": \"max_depth\", \"param_min_samples_split\": \"min_samples_split\", \"param_min_samples_leaf\": \"min_samples_leaf\", \"param_max_features\": \"max_features\"})\n",
    "dt_results.to_csv(f\"Results_New/dt_results.csv\")"
   ]
  },
  {
   "cell_type": "code",
   "execution_count": 30,
   "metadata": {},
   "outputs": [
    {
     "name": "stdout",
     "output_type": "stream",
     "text": [
      "Accuracy: 0.8936170212765957\n",
      "              precision    recall  f1-score   support\n",
      "\n",
      "           0       0.82      0.88      0.85        16\n",
      "           1       0.93      0.90      0.92        31\n",
      "\n",
      "    accuracy                           0.89        47\n",
      "   macro avg       0.88      0.89      0.88        47\n",
      "weighted avg       0.90      0.89      0.89        47\n",
      "\n",
      "F1_score 0.9180327868852459\n",
      "Micro F1_score: 0.8936170212765957\n",
      "Weighted F1_score: 0.8943568929617064\n",
      "----Top 5 models----\n"
     ]
    },
    {
     "data": {
      "text/html": [
       "<div>\n",
       "<style scoped>\n",
       "    .dataframe tbody tr th:only-of-type {\n",
       "        vertical-align: middle;\n",
       "    }\n",
       "\n",
       "    .dataframe tbody tr th {\n",
       "        vertical-align: top;\n",
       "    }\n",
       "\n",
       "    .dataframe thead th {\n",
       "        text-align: right;\n",
       "    }\n",
       "</style>\n",
       "<table border=\"1\" class=\"dataframe\">\n",
       "  <thead>\n",
       "    <tr style=\"text-align: right;\">\n",
       "      <th></th>\n",
       "      <th>param_criterion</th>\n",
       "      <th>max_depth</th>\n",
       "      <th>max_features</th>\n",
       "      <th>mean_test_score</th>\n",
       "      <th>std_test_score</th>\n",
       "      <th>rank_test_score</th>\n",
       "    </tr>\n",
       "  </thead>\n",
       "  <tbody>\n",
       "    <tr>\n",
       "      <th>0</th>\n",
       "      <td>gini</td>\n",
       "      <td>13</td>\n",
       "      <td>None</td>\n",
       "      <td>0.876116</td>\n",
       "      <td>0.016910</td>\n",
       "      <td>1</td>\n",
       "    </tr>\n",
       "    <tr>\n",
       "      <th>1</th>\n",
       "      <td>entropy</td>\n",
       "      <td>13</td>\n",
       "      <td>None</td>\n",
       "      <td>0.874870</td>\n",
       "      <td>0.010514</td>\n",
       "      <td>2</td>\n",
       "    </tr>\n",
       "    <tr>\n",
       "      <th>2</th>\n",
       "      <td>gini</td>\n",
       "      <td>14</td>\n",
       "      <td>None</td>\n",
       "      <td>0.872995</td>\n",
       "      <td>0.021820</td>\n",
       "      <td>3</td>\n",
       "    </tr>\n",
       "    <tr>\n",
       "      <th>3</th>\n",
       "      <td>log_loss</td>\n",
       "      <td>13</td>\n",
       "      <td>None</td>\n",
       "      <td>0.872952</td>\n",
       "      <td>0.013250</td>\n",
       "      <td>4</td>\n",
       "    </tr>\n",
       "    <tr>\n",
       "      <th>4</th>\n",
       "      <td>gini</td>\n",
       "      <td>10</td>\n",
       "      <td>None</td>\n",
       "      <td>0.871735</td>\n",
       "      <td>0.019573</td>\n",
       "      <td>5</td>\n",
       "    </tr>\n",
       "  </tbody>\n",
       "</table>\n",
       "</div>"
      ],
      "text/plain": [
       "  param_criterion max_depth max_features  mean_test_score  std_test_score  \\\n",
       "0            gini        13         None         0.876116        0.016910   \n",
       "1         entropy        13         None         0.874870        0.010514   \n",
       "2            gini        14         None         0.872995        0.021820   \n",
       "3        log_loss        13         None         0.872952        0.013250   \n",
       "4            gini        10         None         0.871735        0.019573   \n",
       "\n",
       "   rank_test_score  \n",
       "0                1  \n",
       "1                2  \n",
       "2                3  \n",
       "3                4  \n",
       "4                5  "
      ]
     },
     "metadata": {},
     "output_type": "display_data"
    },
    {
     "name": "stdout",
     "output_type": "stream",
     "text": [
      "\n",
      "----Confusion Matrix----\n"
     ]
    },
    {
     "data": {
      "image/png": "[encoded data removed]",
      "text/plain": [
       "<Figure size 640x480 with 2 Axes>"
      ]
     },
     "metadata": {},
     "output_type": "display_data"
    }
   ],
   "source": [
    "print(\"Accuracy:\", accuracy_score(y_test, y_pred))\n",
    "print(classification_report(y_test, y_pred))\n",
    "f1 = f1_score(y_test, y_pred)\n",
    "print(\"F1_score\", f1)\n",
    "print(\"Micro F1_score:\", f1_score(y_test, y_pred, average=\"micro\"))\n",
    "print(\"Weighted F1_score:\", f1_score(y_test, y_pred, average=\"weighted\"))\n",
    "\n",
    "print(\"----Top 5 models----\")\n",
    "display(dt_results.sort_values(\"rank_test_score\").iloc[[0, 1, 2, 3, 4], [0, 1, 2, 8, 9, 10]].reset_index(drop=True))\n",
    "\n",
    "print(\"\\n----Confusion Matrix----\")\n",
    "cm = confusion_matrix(y_test, y_pred)\n",
    "\n",
    "labels = [\"benign\", \"malignant\"]\n",
    "disp = ConfusionMatrixDisplay(confusion_matrix=cm, display_labels=labels)\n",
    "\n",
    "disp.plot()\n",
    "plt.show()"
   ]
  },
  {
   "cell_type": "markdown",
   "metadata": {},
   "source": [
    "## 3. Naive Bayes "
   ]
  },
  {
   "cell_type": "code",
   "execution_count": 31,
   "metadata": {},
   "outputs": [],
   "source": [
    "from sklearn.naive_bayes import GaussianNB"
   ]
  },
  {
   "cell_type": "code",
   "execution_count": 32,
   "metadata": {},
   "outputs": [],
   "source": [
    "cv = StratifiedKFold(5, random_state=1, shuffle=True)\n",
    "clf = GaussianNB()\n",
    "\n",
    "# clf = GridSearchCV(estimator=dt, param_grid=params, scoring=\"f1\", cv=cv, n_jobs=-1) # The best model is chosen based on the metric of the refit param. Can be set to any metric listed in the \"scoring\" list above\n",
    "#NB dont need hyperparameter tuning! \n",
    "clf.fit(X_train, y_train)\n",
    "scores = cross_val_score(clf, X_train, y_train, cv=cv)\n",
    "\n",
    "y_pred = clf.predict(X_test)\n"
   ]
  },
  {
   "cell_type": "code",
   "execution_count": 33,
   "metadata": {},
   "outputs": [
    {
     "name": "stdout",
     "output_type": "stream",
     "text": [
      "Cross-validated scores: [0.73469388 0.67346939 0.69387755 0.67972743 0.6967632 ]\n",
      "Mean accuracy: 0.6957062893300421\n",
      "Standard deviation of accuracy: 0.021327433970950996\n",
      "Accuracy: 0.574468085106383\n",
      "              precision    recall  f1-score   support\n",
      "\n",
      "           0       0.44      0.88      0.58        16\n",
      "           1       0.87      0.42      0.57        31\n",
      "\n",
      "    accuracy                           0.57        47\n",
      "   macro avg       0.65      0.65      0.57        47\n",
      "weighted avg       0.72      0.57      0.57        47\n",
      "\n",
      "F1_score 0.5652173913043478\n",
      "Micro F1_score: 0.574468085106383\n",
      "Weighted F1_score: 0.5713845205057047\n",
      "----Model evaluation----\n"
     ]
    },
    {
     "data": {
      "text/html": [
       "<div>\n",
       "<style scoped>\n",
       "    .dataframe tbody tr th:only-of-type {\n",
       "        vertical-align: middle;\n",
       "    }\n",
       "\n",
       "    .dataframe tbody tr th {\n",
       "        vertical-align: top;\n",
       "    }\n",
       "\n",
       "    .dataframe thead th {\n",
       "        text-align: right;\n",
       "    }\n",
       "</style>\n",
       "<table border=\"1\" class=\"dataframe\">\n",
       "  <thead>\n",
       "    <tr style=\"text-align: right;\">\n",
       "      <th></th>\n",
       "      <th>mean_accuracy_score</th>\n",
       "      <th>weighted_precision_score</th>\n",
       "      <th>weighted_recall_score</th>\n",
       "      <th>weighted_f1_score</th>\n",
       "    </tr>\n",
       "  </thead>\n",
       "  <tbody>\n",
       "    <tr>\n",
       "      <th>0</th>\n",
       "      <td>0.720567</td>\n",
       "      <td>0.574468</td>\n",
       "      <td>0.571385</td>\n",
       "      <td>0.574468</td>\n",
       "    </tr>\n",
       "  </tbody>\n",
       "</table>\n",
       "</div>"
      ],
      "text/plain": [
       "   mean_accuracy_score  weighted_precision_score  weighted_recall_score  \\\n",
       "0             0.720567                  0.574468               0.571385   \n",
       "\n",
       "   weighted_f1_score  \n",
       "0           0.574468  "
      ]
     },
     "metadata": {},
     "output_type": "display_data"
    },
    {
     "name": "stdout",
     "output_type": "stream",
     "text": [
      "\n",
      "----Confusion Matrix----\n"
     ]
    },
    {
     "data": {
      "image/png": "[encoded data removed]",
      "text/plain": [
       "<Figure size 640x480 with 2 Axes>"
      ]
     },
     "metadata": {},
     "output_type": "display_data"
    }
   ],
   "source": [
    "# Print the cross-validated scores\n",
    "print(\"Cross-validated scores:\", scores)\n",
    "\n",
    "# Calculate and print the mean accuracy and its standard deviation\n",
    "print(\"Mean accuracy:\", scores.mean())\n",
    "print(\"Standard deviation of accuracy:\", scores.std())\n",
    "\n",
    "print(\"Accuracy:\", accuracy_score(y_test, y_pred))\n",
    "print(classification_report(y_test, y_pred))\n",
    "\n",
    "f1 = f1_score(y_test, y_pred)\n",
    "print(\"F1_score\", f1)\n",
    "print(\"Micro F1_score:\", f1_score(y_test, y_pred, average=\"micro\"))\n",
    "print(\"Weighted F1_score:\", f1_score(y_test, y_pred, average=\"weighted\"))\n",
    "\n",
    "# NEED TO CHANGE WEIGHTED OR NOT? CHECK DATASET. Weighted is for unbalanced\n",
    "results = []\n",
    "results.append([\n",
    "    precision_score(y_test, y_pred, average='weighted'),\n",
    "    recall_score(y_test, y_pred, average='weighted'), \n",
    "    f1_score(y_test, y_pred, average='weighted'), \n",
    "    clf.score(X_test, y_test)\n",
    "])\n",
    "\n",
    "print(\"----Model evaluation----\")\n",
    "display(pd.DataFrame(results, columns=[\"mean_accuracy_score\", \"weighted_precision_score\", \"weighted_recall_score\", \"weighted_f1_score\"]))\n",
    "\n",
    "print(\"\\n----Confusion Matrix----\")\n",
    "cm = confusion_matrix(y_test, y_pred, labels=clf.classes_)\n",
    "disp = ConfusionMatrixDisplay(confusion_matrix=cm, display_labels=clf.classes_)\n",
    "disp.plot()\n",
    "plt.show()"
   ]
  },
  {
   "cell_type": "markdown",
   "metadata": {},
   "source": [
    "## 4. Support Vector Machine (SVM)"
   ]
  },
  {
   "cell_type": "code",
   "execution_count": 49,
   "metadata": {},
   "outputs": [],
   "source": [
    "from sklearn.svm import SVC"
   ]
  },
  {
   "cell_type": "code",
   "execution_count": 50,
   "metadata": {},
   "outputs": [],
   "source": [
    "## Normalize to speed up process\n",
    "def normalize_image(image):\n",
    "    image_float = image.astype(float)\n",
    "    min_val = np.min(image_float.ravel())\n",
    "    max_val = np.max(image_float.ravel())\n",
    "    normalized = (image_float - min_val) / (max_val - min_val)\n",
    "    return normalized"
   ]
  },
  {
   "cell_type": "code",
   "execution_count": 51,
   "metadata": {},
   "outputs": [],
   "source": [
    "# Repeat same process but w normalized images now\n",
    "\n",
    "# Read and normalize training data\n",
    "X_train, y_train = read_images_from_dir(\"cleaned_data/Train\")\n",
    "X_train = np.array([normalize_image(img) for img in X_train])\n",
    "y_train = encoder.fit_transform(y_train)\n",
    "# Apply PCA\n",
    "n_components = 750\n",
    "pca = PCA(n_components=n_components, whiten=True).fit(X_train)\n",
    "X_train_pca = pca.transform(X_train)"
   ]
  },
  {
   "cell_type": "code",
   "execution_count": 52,
   "metadata": {},
   "outputs": [],
   "source": [
    "# Read and normalize test data\n",
    "X_test, y_test = read_images_from_dir('cleaned_data/Test')\n",
    "X_test = np.array([normalize_image(img) for img in X_test])\n",
    "y_test = encoder.transform(y_test)\n",
    "X_test_pca = pca.transform(X_test)"
   ]
  },
  {
   "cell_type": "code",
   "execution_count": 53,
   "metadata": {},
   "outputs": [],
   "source": [
    "# SCALE the PCA data (optional but can be beneficial for SVM)\n",
    "scaler = StandardScaler().fit(X_train_pca)\n",
    "X_train_pca = scaler.transform(X_train_pca)\n",
    "X_test_pca = scaler.transform(X_test_pca)\n",
    "#After PCA, data is scaled using StandardScaler as SVM often performs better when the input data is centered and has unit variance."
   ]
  },
  {
   "cell_type": "code",
   "execution_count": 54,
   "metadata": {},
   "outputs": [],
   "source": [
    "# SVM with Grid Search\n",
    "params = {\n",
    "    \"C\": [0.1, 1, 10, 100],\n",
    "    \"gamma\": [\"scale\", 0.1, 1, 10],\n",
    "    \"kernel\": [\"linear\", \"rbf\"]\n",
    "}\n",
    "\n",
    "cv = StratifiedKFold(5, random_state=1, shuffle=True)\n",
    "svm = SVC()\n",
    "\n",
    "clf = GridSearchCV(estimator=svm, param_grid=params, scoring=\"f1\", cv=cv, n_jobs=-1)\n",
    "clf.fit(X_train_pca, y_train)\n",
    "\n",
    "y_pred = clf.predict(X_test_pca)\n",
    "\n",
    "svm_results = pd.DataFrame(clf.cv_results_).drop([\"mean_fit_time\", \"std_fit_time\", \"mean_score_time\", \"std_score_time\", \"params\"], axis=1)\n",
    "svm_results.to_csv(f\"Results_New/svm_results.csv\")"
   ]
  },
  {
   "cell_type": "code",
   "execution_count": 55,
   "metadata": {},
   "outputs": [
    {
     "name": "stdout",
     "output_type": "stream",
     "text": [
      "Accuracy: 0.8723404255319149\n",
      "              precision    recall  f1-score   support\n",
      "\n",
      "           0       0.81      0.81      0.81        16\n",
      "           1       0.90      0.90      0.90        31\n",
      "\n",
      "    accuracy                           0.87        47\n",
      "   macro avg       0.86      0.86      0.86        47\n",
      "weighted avg       0.87      0.87      0.87        47\n",
      "\n",
      "F1_score 0.9032258064516129\n",
      "Micro F1_score: 0.8723404255319149\n",
      "Weighted F1_score: 0.8723404255319149\n",
      "----Top 5 models----\n"
     ]
    },
    {
     "data": {
      "text/html": [
       "<div>\n",
       "<style scoped>\n",
       "    .dataframe tbody tr th:only-of-type {\n",
       "        vertical-align: middle;\n",
       "    }\n",
       "\n",
       "    .dataframe tbody tr th {\n",
       "        vertical-align: top;\n",
       "    }\n",
       "\n",
       "    .dataframe thead th {\n",
       "        text-align: right;\n",
       "    }\n",
       "</style>\n",
       "<table border=\"1\" class=\"dataframe\">\n",
       "  <thead>\n",
       "    <tr style=\"text-align: right;\">\n",
       "      <th></th>\n",
       "      <th>param_C</th>\n",
       "      <th>param_gamma</th>\n",
       "      <th>param_kernel</th>\n",
       "      <th>mean_test_score</th>\n",
       "      <th>std_test_score</th>\n",
       "      <th>rank_test_score</th>\n",
       "    </tr>\n",
       "  </thead>\n",
       "  <tbody>\n",
       "    <tr>\n",
       "      <th>0</th>\n",
       "      <td>100</td>\n",
       "      <td>scale</td>\n",
       "      <td>rbf</td>\n",
       "      <td>0.965913</td>\n",
       "      <td>0.007304</td>\n",
       "      <td>1</td>\n",
       "    </tr>\n",
       "    <tr>\n",
       "      <th>1</th>\n",
       "      <td>10</td>\n",
       "      <td>scale</td>\n",
       "      <td>rbf</td>\n",
       "      <td>0.965913</td>\n",
       "      <td>0.007304</td>\n",
       "      <td>1</td>\n",
       "    </tr>\n",
       "    <tr>\n",
       "      <th>2</th>\n",
       "      <td>1</td>\n",
       "      <td>scale</td>\n",
       "      <td>rbf</td>\n",
       "      <td>0.962770</td>\n",
       "      <td>0.007282</td>\n",
       "      <td>3</td>\n",
       "    </tr>\n",
       "    <tr>\n",
       "      <th>3</th>\n",
       "      <td>10</td>\n",
       "      <td>scale</td>\n",
       "      <td>linear</td>\n",
       "      <td>0.946652</td>\n",
       "      <td>0.013362</td>\n",
       "      <td>4</td>\n",
       "    </tr>\n",
       "    <tr>\n",
       "      <th>4</th>\n",
       "      <td>100</td>\n",
       "      <td>10</td>\n",
       "      <td>linear</td>\n",
       "      <td>0.946652</td>\n",
       "      <td>0.013362</td>\n",
       "      <td>4</td>\n",
       "    </tr>\n",
       "  </tbody>\n",
       "</table>\n",
       "</div>"
      ],
      "text/plain": [
       "  param_C param_gamma param_kernel  mean_test_score  std_test_score  \\\n",
       "0     100       scale          rbf         0.965913        0.007304   \n",
       "1      10       scale          rbf         0.965913        0.007304   \n",
       "2       1       scale          rbf         0.962770        0.007282   \n",
       "3      10       scale       linear         0.946652        0.013362   \n",
       "4     100          10       linear         0.946652        0.013362   \n",
       "\n",
       "   rank_test_score  \n",
       "0                1  \n",
       "1                1  \n",
       "2                3  \n",
       "3                4  \n",
       "4                4  "
      ]
     },
     "metadata": {},
     "output_type": "display_data"
    },
    {
     "name": "stdout",
     "output_type": "stream",
     "text": [
      "\n",
      "----Confusion Matrix----\n"
     ]
    },
    {
     "data": {
      "image/png": "[encoded data removed]",
      "text/plain": [
       "<Figure size 640x480 with 2 Axes>"
      ]
     },
     "metadata": {},
     "output_type": "display_data"
    }
   ],
   "source": [
    "print(\"Accuracy:\", accuracy_score(y_test, y_pred))\n",
    "print(classification_report(y_test, y_pred))\n",
    "\n",
    "f1 = f1_score(y_test, y_pred)\n",
    "print(\"F1_score\", f1)\n",
    "print(\"Micro F1_score:\", f1_score(y_test, y_pred, average=\"micro\"))\n",
    "print(\"Weighted F1_score:\", f1_score(y_test, y_pred, average=\"weighted\"))\n",
    "\n",
    "print(\"----Top 5 models----\")\n",
    "display(svm_results.sort_values(\"rank_test_score\").iloc[[0, 1, 2, 3, 4], [0, 1, 2, 8, 9, 10]].reset_index(drop=True))\n",
    "\n",
    "print(\"\\n----Confusion Matrix----\")\n",
    "cm = confusion_matrix(y_test, y_pred)\n",
    "labels = [\"benign\", \"malignant\"]\n",
    "disp = ConfusionMatrixDisplay(confusion_matrix=cm, display_labels=labels)\n",
    "disp.plot()\n",
    "plt.show()"
   ]
  }
 ],
 "metadata": {
  "kernelspec": {
   "display_name": ".venv",
   "language": "python",
   "name": "python3"
  },
  "language_info": {
   "codemirror_mode": {
    "name": "ipython",
    "version": 3
   },
   "file_extension": ".py",
   "mimetype": "text/x-python",
   "name": "python",
   "nbconvert_exporter": "python",
   "pygments_lexer": "ipython3",
   "version": "3.11.2"
  }
 },
 "nbformat": 4,
 "nbformat_minor": 2
}
